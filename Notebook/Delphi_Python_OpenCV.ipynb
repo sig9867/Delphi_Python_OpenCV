{
 "cells": [
  {
   "cell_type": "code",
   "execution_count": 1,
   "metadata": {},
   "outputs": [],
   "source": [
    "import os\n",
    "os.environ[\"OPENCV_VIDEOIO_MSMF_ENABLE_HW_TRANSFORMS\"] = \"0\"\n",
    "from delphifmx import *"
   ]
  },
  {
   "cell_type": "code",
   "execution_count": 2,
   "metadata": {},
   "outputs": [],
   "source": [
    "import time\n",
    "class TWidth:\n",
    "    def __init__(self, rate=0.2, f='{:03.1f} [ms]'):\n",
    "        self.rate = rate\n",
    "        self.tw = 0.0\n",
    "        self.f = f\n",
    "        \n",
    "    def start(self):\n",
    "        self.t0 = time.time()\n",
    "    \n",
    "    def get(self):\n",
    "        self.tw = self.tw * (1.0 - self.rate) + (time.time() - self.t0) * self.rate\n",
    "        return self.f.format(self.tw * 1000)"
   ]
  },
  {
   "cell_type": "code",
   "execution_count": 3,
   "metadata": {},
   "outputs": [],
   "source": [
    "import cv2\n",
    "class CVBase(cv2.VideoCapture):\n",
    "    def __init__(self, device=None, original='origin.png', arranged='arranged.png'):\n",
    "        super().__init__(device)\n",
    "        self.original = original\n",
    "        self.arranged = arranged\n",
    "\n",
    "    def step(self):\n",
    "        # ここは継承先で override \n",
    "        pass\n",
    "\n",
    "    def close(self):\n",
    "        self.release()\n",
    "    \n",
    "    def save(self, org_img, arg_img):\n",
    "        cv2.imwrite(self.original, org_img)\n",
    "        cv2.imwrite(self.arranged, arg_img)\n"
   ]
  },
  {
   "cell_type": "code",
   "execution_count": 4,
   "metadata": {},
   "outputs": [],
   "source": [
    "\n",
    "import numpy as np\n",
    "\n",
    "class OpiticalFlow(CVBase):\n",
    "\n",
    "    def __init__(self, device):\n",
    "        super().__init__(device)\n",
    "        #\n",
    "        ret, frame = self.read()\n",
    "        self.prvs = cv2.cvtColor(frame, cv2.COLOR_BGR2GRAY)\n",
    "        self.hsv = np.zeros_like(frame)\n",
    "        self.hsv[...,1] = 255\n",
    "    \n",
    "    def step(self):\n",
    "        ret, frame = self.read()\n",
    "        if not ret:\n",
    "            return\n",
    "        next = cv2.cvtColor(frame, cv2.COLOR_BGR2GRAY)\n",
    "        flow = cv2.calcOpticalFlowFarneback(self.prvs, next, None, 0.5, 3, 15, 3, 5, 1.2, 0)\n",
    "        mag, ang = cv2.cartToPolar(flow[...,0], flow[...,1])\n",
    "        self.hsv[...,0] = ang * 180 / np.pi / 2\n",
    "        self.hsv[...,2] = cv2.normalize(mag, None , 0, 255, cv2.NORM_MINMAX)\n",
    "        bgr = cv2.cvtColor(self.hsv, cv2.COLOR_HSV2BGR)\n",
    "        self.save(frame, bgr)\n",
    "        self.prvs = next\n"
   ]
  },
  {
   "cell_type": "markdown",
   "metadata": {},
   "source": [
    "ORBは、主にSIFTとSURFが特許取得済みのアルゴリズムであるために考案されました。ただし、ORBは無料で使用できます。\n",
    "\n",
    "https://ichi.pro/orb-no-gaiyo-oriented-fast-and-rotated-brief-72709114183887"
   ]
  },
  {
   "cell_type": "code",
   "execution_count": 5,
   "metadata": {},
   "outputs": [],
   "source": [
    "class ORB(CVBase):\n",
    "\n",
    "    def __init__(self, device):\n",
    "        super().__init__(device)\n",
    "\n",
    "    def step(self):\n",
    "        ret, img = self.read()\n",
    "        if not ret: return\n",
    "        orb = cv2.ORB_create()\n",
    "        kps = orb.detect(img)\n",
    "        result = cv2.drawKeypoints(img, kps, None, -1, cv2.DrawMatchesFlags_DEFAULT)\n",
    "        self.save(img, result)"
   ]
  },
  {
   "cell_type": "code",
   "execution_count": 6,
   "metadata": {},
   "outputs": [],
   "source": [
    "class MainForm(Form):\n",
    "\n",
    "    def __init__(self, owner):\n",
    "        self.ImageRaw = None\n",
    "        self.ImageArranged = None\n",
    "        self.StyleBook1 = None\n",
    "        self.Timer1 = None\n",
    "        self.MainMenu1 = None\n",
    "        self.MenuItem1 = None\n",
    "        self.MenuOpen = None\n",
    "        self.Menu_Seperator = None\n",
    "        self.MenuExit = None\n",
    "        self.MenuItem2 = None\n",
    "        self.MenuIMovie = None\n",
    "        self.MenuUsbWeb = None\n",
    "        self.MenuItem3 = None\n",
    "        self.MenuOpticalFlow = None\n",
    "        self.MenuORB = None\n",
    "        self.Splitter1 = None\n",
    "        self.OpenDialog1 = None\n",
    "        self.TextRaw = None\n",
    "        self.ShadowEffect1 = None\n",
    "        self.TextArranged = None\n",
    "        self.ShadowEffect2 = None\n",
    "        filepath = '../Export_to_Python/' + \"main.pyfmx\"\n",
    "        self.LoadProps(os.path.join(os.path.dirname(os.path.abspath('__file__')), filepath))\n",
    "        self.movie = 'vtest.avi'\n",
    "        self.cv = None\n",
    "        self.select_cv()\n",
    "        # \n",
    "        self.Timer1.Interval = 50\n",
    "        self.tw = TWidth(rate=1.0)\n",
    "\n",
    "    def FormClose(self, Sender, Action):\n",
    "        self.cv.close()\n",
    "        os.remove(self.cv.original)\n",
    "        os.remove(self.cv.arranged)\n",
    "\n",
    "    def Timer1Timer(self, Sender):\n",
    "        self.tw.start()\n",
    "        self.cv.step()\n",
    "        self.ImageRaw.Bitmap.LoadFromFile(self.cv.original)\n",
    "        self.ImageArranged.Bitmap.LoadFromFile(self.cv.arranged)\n",
    "        self.Caption = 'OpenCV を検討する: ' + self.tw.get()\n",
    "\n",
    "    def MenuOpenClick(self, Sender):\n",
    "        if self.OpenDialog1.Execute():\n",
    "            self.MenuIMovie.IsChecked = True\n",
    "            self.movie = self.OpenDialog1.FileName\n",
    "            self.select_cv()\n",
    "    \n",
    "    def MenuExitClick(self, Sender):\n",
    "        self.close()\n",
    "\n",
    "    def Menu_SelectorClick(self, Sender):\n",
    "        Sender.IsChecked = True\n",
    "        self.select_cv()\n",
    "\n",
    "    def select_cv(self):\n",
    "        self.Timer1.Enabled = False\n",
    "        if self.cv:\n",
    "            self.cv.close()\n",
    "            del self.cv\n",
    "        dev = self.select_device()\n",
    "        if self.MenuOpticalFlow.IsChecked:\n",
    "            self.cv = OpiticalFlow(dev)\n",
    "            #self.cv.step()\n",
    "        else:\n",
    "            self.cv = ORB(dev)\n",
    "        self.TextArranged.Text = self.MenuOpticalFlow.Text if self.MenuOpticalFlow.IsChecked else self.MenuORB.Text\n",
    "        self.Timer1.Enabled = True\n",
    "    \n",
    "    def select_device(self):\n",
    "        self.TextRaw.Text = self.MenuUsbWeb.Text if self.MenuUsbWeb.IsChecked else self.movie\n",
    "        return 0 if self.MenuUsbWeb.IsChecked else self.movie"
   ]
  },
  {
   "cell_type": "code",
   "execution_count": 7,
   "metadata": {},
   "outputs": [],
   "source": [
    "def main():\n",
    "    Application.Initialize()\n",
    "    Application.Title = 'OpenCV'\n",
    "    Application.MainForm = MainForm(Application)\n",
    "    Application.MainForm.Show()\n",
    "    Application.Run()\n",
    "    Application.MainForm.Destroy()\n"
   ]
  },
  {
   "cell_type": "code",
   "execution_count": 8,
   "metadata": {},
   "outputs": [],
   "source": [
    "if __name__ == '__main__':\n",
    "    main()\n"
   ]
  }
 ],
 "metadata": {
  "kernelspec": {
   "display_name": "Python 3 (ipykernel)",
   "language": "python",
   "name": "python3"
  },
  "language_info": {
   "codemirror_mode": {
    "name": "ipython",
    "version": 3
   },
   "file_extension": ".py",
   "mimetype": "text/x-python",
   "name": "python",
   "nbconvert_exporter": "python",
   "pygments_lexer": "ipython3",
   "version": "3.9.13"
  },
  "vscode": {
   "interpreter": {
    "hash": "df11429fd6d1925d50f795e151f73c88d5caa9b70ee947369e01bb65769a9872"
   }
  }
 },
 "nbformat": 4,
 "nbformat_minor": 4
}
